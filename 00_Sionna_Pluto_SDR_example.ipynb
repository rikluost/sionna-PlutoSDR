{
 "cells": [
  {
   "cell_type": "markdown",
   "id": "fa4f4cfb-4a31-4a69-aaed-93d21fbb5d21",
   "metadata": {
    "tags": []
   },
   "source": [
    "# Simple example how to run PlutoSDR on Sionna\n",
    "\n",
    "The code, excluding the Software-Defined Radio (SDR) functions, is sourced from the Sionna GitHub repository. Adaptations have been made to integrate the SDR radio into the system. Specifically, the PlutoSDR is utilized as a substitute for channel simulation. It takes input from the Sionna modulator and produces a TensorFlow tensor, configured for seamless integration with the Sionna demodulator.\n",
    "\n",
    "Limitations:\n",
    "\n",
    "- Batch size must be 1.\n",
    "- This version supports SISO 1T1R, single full-duplex device\n",
    "\n",
    "Important: Transmitting anything requires an appropriate license; failure to have one may result in legal consequences.\n",
    "\n",
    "Typically the duration of execution is approximtely 25ms per OFDM block, but with graphs (debug=True), it can take approximately 2.5sec."
   ]
  },
  {
   "cell_type": "code",
   "execution_count": 8,
   "id": "ffb6a229",
   "metadata": {},
   "outputs": [
    {
     "name": "stdout",
     "output_type": "stream",
     "text": [
      "Number of GPUs available : 1\n",
      "Only GPU number 0 used.\n"
     ]
    }
   ],
   "source": [
    "import tensorflow as tf\n",
    "gpus = tf.config.list_physical_devices('GPU')\n",
    "print('Number of GPUs available :', len(gpus))\n",
    "if gpus:\n",
    "    gpu_num = 0 # Number of the GPU to be used\n",
    "    try:\n",
    "        tf.config.set_visible_devices(gpus[gpu_num], 'GPU')\n",
    "        print('Only GPU number', gpu_num, 'used.')\n",
    "        tf.config.experimental.set_memory_growth(gpus[gpu_num], True)\n",
    "    except RuntimeError as e:\n",
    "        print(e)"
   ]
  },
  {
   "cell_type": "code",
   "execution_count": 9,
   "id": "9d3ff139",
   "metadata": {},
   "outputs": [
    {
     "name": "stdout",
     "output_type": "stream",
     "text": [
      "Sionna version: 1.1.0\n"
     ]
    }
   ],
   "source": [
    "%matplotlib inline\n",
    "import matplotlib.pyplot as plt\n",
    "import numpy as np\n",
    "from tensorflow.keras import Model\n",
    "import sionna\n",
    "\n",
    "# Updated imports for Sionna 1.x (migrated from 0.16)\n",
    "from sionna.phy.mimo.stream_management import StreamManagement\n",
    "from sionna.phy.ofdm.resource_grid import ResourceGrid, ResourceGridMapper\n",
    "from sionna.phy.ofdm.channel_estimation import LSChannelEstimator\n",
    "from sionna.phy.ofdm.equalization import LMMSEEqualizer\n",
    "from sionna.phy.ofdm.modulator import OFDMModulator\n",
    "from sionna.phy.ofdm.demodulator import OFDMDemodulator\n",
    "from sionna.phy.ofdm.precoding import RZFPrecoder, RemoveNulledSubcarriers\n",
    "from sionna.phy.fec.ldpc.encoding import LDPC5GEncoder\n",
    "from sionna.phy.fec.ldpc.decoding import LDPC5GDecoder\n",
    "from sionna.phy.mapping import Mapper, Demapper, BinarySource\n",
    "from sionna.phy.utils.misc import ebnodb2no, sim_ber\n",
    "from sionna.phy.utils import PlotBER\n",
    "from sionna.phy.utils.metrics import compute_ber\n",
    "\n",
    "print(f\"Sionna version: {sionna.__version__}\")\n",
    "\n",
    "# System configuration\n",
    "num_tx = 1                    # Number of transmit antennas  \n",
    "num_streams_per_tx = 1        # Number of streams per transmitter\n",
    "num_rx = 1                    # Number of receive antennas\n",
    "\n",
    "# OFDM Resource Grid parameters\n",
    "num_ofdm_symbols = 14         # Number of OFDM symbols per slot (typical LTE/5G)\n",
    "fft_size = 128                 # FFT size (number of subcarriers)\n",
    "subcarrier_spacing = 15e3     # Subcarrier spacing in Hz (30 kHz for 5G NR)\n",
    "cyclic_prefix_length = 7     # Cyclic prefix length in samples\n",
    "num_guard_carriers = [5, 6]   # Number of guard carriers [left, right]\n",
    "dc_null = True                # Whether to null the DC subcarrier\n",
    "pilot_ofdm_symbol_indices = [2,11]  # OFDM symbols containing pilots\n",
    "pilot_pattern = \"kronecker\"  \n"
   ]
  },
  {
   "cell_type": "markdown",
   "id": "85fbf4f9-4576-4ea0-b11b-3107bba0ef54",
   "metadata": {},
   "source": [
    "### Stream Management <a class=\"anchor\" id=\"Stream-Management\"></a>"
   ]
  },
  {
   "cell_type": "code",
   "execution_count": 10,
   "id": "c8f1a11c-443c-4fc5-af27-9854e42ee578",
   "metadata": {},
   "outputs": [],
   "source": [
    "# Create an RX-TX association matrix\n",
    "rx_tx_association = np.array([[1]])\n",
    "\n",
    "# Instantiate a StreamManagement object\n",
    "sm = StreamManagement(rx_tx_association, num_streams_per_tx)"
   ]
  },
  {
   "cell_type": "markdown",
   "id": "6e5910cc-eb73-45f3-8c56-f580e01566cc",
   "metadata": {},
   "source": [
    "### OFDM Resource Grid & Pilot Pattern <a class=\"anchor\" id=\"OFDM-Resource-Grid-&-Pilot-Pattern\"></a>"
   ]
  },
  {
   "cell_type": "code",
   "execution_count": 11,
   "id": "d1ac9e8c-708f-446c-b041-2713dd3a20a5",
   "metadata": {},
   "outputs": [],
   "source": [
    "rg = ResourceGrid(num_ofdm_symbols=num_ofdm_symbols,\n",
    "                  fft_size=fft_size,\n",
    "                  subcarrier_spacing=subcarrier_spacing,\n",
    "                  num_tx=num_tx,\n",
    "                  num_streams_per_tx=num_streams_per_tx,\n",
    "                  cyclic_prefix_length=cyclic_prefix_length,\n",
    "                  num_guard_carriers=num_guard_carriers,\n",
    "                  dc_null=dc_null,\n",
    "                  pilot_pattern=pilot_pattern,\n",
    "                  pilot_ofdm_symbol_indices=pilot_ofdm_symbol_indices)"
   ]
  },
  {
   "cell_type": "code",
   "execution_count": 12,
   "id": "e77893d1-80d6-4926-bead-b1a72401b59a",
   "metadata": {},
   "outputs": [],
   "source": [
    "num_bits_per_symbol = 6 # 256QAM modulation\n",
    "coderate = 0.5 # Code rate\n",
    "n = int(rg.num_data_symbols*num_bits_per_symbol) # Number of coded bits\n",
    "k = int(n*coderate) # Number of information bits\n",
    "\n",
    "# The binary source will create batches of information bits\n",
    "binary_source = BinarySource() \n",
    "\n",
    "# The encoder maps information bits to coded bits\n",
    "encoder = LDPC5GEncoder(k, n)\n",
    "\n",
    "# The mapper maps blocks of information bits to constellation symbols\n",
    "mapper = Mapper(\"qam\", num_bits_per_symbol)\n",
    "\n",
    "# The resource grid mapper maps symbols onto an OFDM resource grid\n",
    "rg_mapper = ResourceGridMapper(rg)\n",
    "\n",
    "# OFDM modulator and demodulator\n",
    "modulator = OFDMModulator(rg.cyclic_prefix_length)\n",
    "demodulator = OFDMDemodulator(rg.fft_size, 0, rg.cyclic_prefix_length)\n",
    "\n",
    "# This function removes nulled subcarriers from any tensor having the shape of a resource grid\n",
    "remove_nulled_scs = RemoveNulledSubcarriers(rg)\n",
    "\n",
    "# The LS channel estimator will provide channel estimates and error variances\n",
    "ls_est = LSChannelEstimator(rg, interpolation_type=\"nn\")\n",
    "\n",
    "# The LMMSE equalizer will provide soft symbols together with noise variance estimates\n",
    "lmmse_equ = LMMSEEqualizer(rg, sm)\n",
    "\n",
    "# The demapper produces LLR for all coded bits\n",
    "demapper = Demapper(\"app\", \"qam\", num_bits_per_symbol)\n",
    "\n",
    "# The decoder provides hard-decisions on the information bits\n",
    "decoder = LDPC5GDecoder(encoder, hard_out=True)"
   ]
  },
  {
   "cell_type": "markdown",
   "id": "bb616356",
   "metadata": {},
   "source": [
    "### import PlutoSDR library for Sionna use\n",
    "\n",
    "PlutoSDR parameters:\n",
    "- SDR_TX_IP: IP address of the PlutoSDR\n",
    "- SDR_TX_FREQ: Transmit frequency in Hz\n",
    "- SDR_TX_BANDWIDTH: Transmit bandwidth in Hz\n",
    "- SampleRate: Sample rate in Hz"
   ]
  },
  {
   "cell_type": "code",
   "execution_count": 13,
   "id": "abce09ea",
   "metadata": {},
   "outputs": [],
   "source": [
    "import SDR_Sionna_1T1R as sdr\n",
    "from SDR_config import SDRConfig, create_debug_config\n",
    "\n",
    "SampleRate = rg.fft_size*rg.subcarrier_spacing # sample rate\n",
    "\n",
    "# Create SDR configuration - you can customize parameters here\n",
    "# Option 1: Use default configuration\n",
    "# config = SDRConfig()\n",
    "\n",
    "# Option 2: Create custom configuration with specific parameters  \n",
    "config = SDRConfig(\n",
    "    sdr_tx_ip=\"ip:192.168.10.190\",\n",
    "    sdr_tx_freq=435.1e6,\n",
    "    rf_bandwidth_multiplier=1.3,\n",
    "    sdr_rx_gain=-5,\n",
    "\n",
    "    debug=False,\n",
    "    save_plots=False\n",
    ")\n",
    "\n",
    "# Option 3: Use convenience function for debug configuration\n",
    "# config = create_debug_config(sdr_tx_ip=\"ip:192.168.10.190\", sdr_tx_freq=435.1e6)\n",
    "\n",
    "# Start the radio. Note, radio transmissions are only allowed with appropriate licenses!!!\n",
    "########################################################################################################################################################\n",
    "SDR1 = sdr.SDR(SampleRate=SampleRate, config=config)\n",
    "########################################################################################################################################################\n"
   ]
  },
  {
   "cell_type": "markdown",
   "id": "d52062b3",
   "metadata": {},
   "source": [
    "## Eager mode example with SDR "
   ]
  },
  {
   "cell_type": "markdown",
   "id": "f8b07203",
   "metadata": {},
   "source": [
    "### Single run in debug mode for SDR debug graphs\n",
    "\n",
    "sdr.SDR input parameters:\n",
    "- SAMPLES: symbols output from sionna modulator\n",
    "- SDR_TX_GAIN: transmitter gain. 0dB is maximum\n",
    "- add_td_symbols: number of additional symbols to cater for delay spread. Sionna demodulator seems to expect 16 symbols.\n",
    "- debug: True for pretty(-ish) graphs\n",
    "\n",
    "sdr.SDR output parameters x_xdr (see below):\n",
    "- x_sdr[0] : samples\n",
    "- x_sdr[1] : SINR estimate\n",
    "- x_sdr[2] : actual TX_Gain setting in SDR\n",
    "- x_sdr[3] : actual RX_Gain setting in SDR\n",
    "- x_sdr[4] : Attempts - the algorithm tries to send again with increased power if correlation is not found\n",
    "- x_sdr[5] : Pearson R - the correlation between transmitted and received signals\n",
    "- x_sdr[6] : SDR time - how long it took to input the samples, transmit, receive, and output the samples. Typically ~23ms in my test set up, around 1sec if debug=True and graphs are created."
   ]
  },
  {
   "cell_type": "code",
   "execution_count": 19,
   "id": "319775ef",
   "metadata": {},
   "outputs": [
    {
     "name": "stdout",
     "output_type": "stream",
     "text": [
      "BER: 0.000, TX_Gain: -16dB, RX_Gain: -1dB, Attempts: 1, relative correlation: 98.29, SINR 19.2dB, SDR time: 98ms\n"
     ]
    }
   ],
   "source": [
    "batch_size = 1 # We pick a small batch_size as executing this code in Eager mode could consume a lot of memory\n",
    "b = binary_source([batch_size, 1, rg.num_streams_per_tx, encoder.k])\n",
    "c = encoder(b)\n",
    "x = mapper(c)\n",
    "x_rg = rg_mapper(x)\n",
    "\n",
    "# OFDM modulation with cyclic prefix insertion\n",
    "x_time = modulator(x_rg)\n",
    "\n",
    "########################################################################################################################################################\n",
    "# All parameters now come from config, but can still be overridden if needed\n",
    "x_sdr = SDR1(SAMPLES = x_time, add_td_symbols = 16, threshold = 25) # transmit, threshold = 0 => max_correlation in use\n",
    "# Alternative: override config parameters: x_sdr = SDR1(SAMPLES = x_time, SDR_RX_GAIN=10, add_td_symbols = 16, threshold = 25, debug=True,  power_max_tx_scaling=1, minSINR=5, maxSINR=30)\n",
    "########################################################################################################################################################\n",
    "\n",
    "y = demodulator(x_sdr[0]) # received samples in tf Sionna compatible format\n",
    "\n",
    "no = ebnodb2no((x_sdr[1]), num_bits_per_symbol, coderate, rg) # SINR estimate\n",
    "h_hat, err_var = ls_est (y, no) \n",
    "\n",
    "x_hat, no_eff = lmmse_equ(y, h_hat, err_var, no)\n",
    "llr = demapper(x_hat, no_eff)\n",
    "b_hat = decoder(llr)\n",
    "ber = compute_ber(b, b_hat)\n",
    "\n",
    "print(f\"BER: {ber:1.3f}, TX_Gain: {x_sdr[2]}dB, RX_Gain: {x_sdr[3]}dB, Attempts: {x_sdr[4]}, relative correlation: {x_sdr[5]:1.2f}, SINR {x_sdr[1]:1.1f}dB, SDR time: {x_sdr[6]*1000:1.0f}ms\")"
   ]
  }
 ],
 "metadata": {
  "kernelspec": {
   "display_name": "Python 3",
   "language": "python",
   "name": "python3"
  },
  "language_info": {
   "codemirror_mode": {
    "name": "ipython",
    "version": 3
   },
   "file_extension": ".py",
   "mimetype": "text/x-python",
   "name": "python",
   "nbconvert_exporter": "python",
   "pygments_lexer": "ipython3",
   "version": "3.11.13"
  },
  "widgets": {
   "application/vnd.jupyter.widget-state+json": {
    "state": {},
    "version_major": 2,
    "version_minor": 0
   }
  }
 },
 "nbformat": 4,
 "nbformat_minor": 5
}
