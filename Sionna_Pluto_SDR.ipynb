{
 "cells": [
  {
   "cell_type": "markdown",
   "id": "fa4f4cfb-4a31-4a69-aaed-93d21fbb5d21",
   "metadata": {
    "tags": []
   },
   "source": [
    "# Simple example how to run PlutoSDR on Sionna\n",
    "\n",
    "With the exception of the SDR functions, all code originates from the Sionna GitHub repository but has been adjusted to utilize the SDR radio.\n",
    "\n",
    "PlutoSDR is employed as a replacement for channel simulation, utilizing input from the Sionna modulator and generating a TensorFlow tensor ready for consumption by the Sionna demodulator.\n",
    "\n",
    "Limitations:\n",
    "\n",
    "- Batch size must be 1.\n",
    "- Currently supports SISO 1T1R only, with 2T2R functionality potentially added later.\n",
    "\n",
    "Important: Transmitting anything requires an appropriate license; failure to have one may result in legal consequences."
   ]
  },
  {
   "cell_type": "code",
   "execution_count": 1,
   "id": "ffb6a229",
   "metadata": {},
   "outputs": [
    {
     "name": "stderr",
     "output_type": "stream",
     "text": [
      "2023-12-06 12:24:52.251935: I tensorflow/core/platform/cpu_feature_guard.cc:182] This TensorFlow binary is optimized to use available CPU instructions in performance-critical operations.\n",
      "To enable the following instructions: AVX2 FMA, in other operations, rebuild TensorFlow with the appropriate compiler flags.\n",
      "2023-12-06 12:24:52.941048: W tensorflow/compiler/tf2tensorrt/utils/py_utils.cc:38] TF-TRT Warning: Could not find TensorRT\n"
     ]
    },
    {
     "name": "stdout",
     "output_type": "stream",
     "text": [
      "Number of GPUs available : 1\n",
      "Only GPU number 0 used.\n"
     ]
    },
    {
     "name": "stderr",
     "output_type": "stream",
     "text": [
      "2023-12-06 12:24:53.541920: I tensorflow/compiler/xla/stream_executor/cuda/cuda_gpu_executor.cc:995] successful NUMA node read from SysFS had negative value (-1), but there must be at least one NUMA node, so returning NUMA node zero. See more at https://github.com/torvalds/linux/blob/v6.0/Documentation/ABI/testing/sysfs-bus-pci#L344-L355\n",
      "2023-12-06 12:24:53.568371: I tensorflow/compiler/xla/stream_executor/cuda/cuda_gpu_executor.cc:995] successful NUMA node read from SysFS had negative value (-1), but there must be at least one NUMA node, so returning NUMA node zero. See more at https://github.com/torvalds/linux/blob/v6.0/Documentation/ABI/testing/sysfs-bus-pci#L344-L355\n",
      "2023-12-06 12:24:53.568502: I tensorflow/compiler/xla/stream_executor/cuda/cuda_gpu_executor.cc:995] successful NUMA node read from SysFS had negative value (-1), but there must be at least one NUMA node, so returning NUMA node zero. See more at https://github.com/torvalds/linux/blob/v6.0/Documentation/ABI/testing/sysfs-bus-pci#L344-L355\n"
     ]
    }
   ],
   "source": [
    "import tensorflow as tf\n",
    "gpus = tf.config.list_physical_devices('GPU')\n",
    "print('Number of GPUs available :', len(gpus))\n",
    "if gpus:\n",
    "    gpu_num = 0 # Number of the GPU to be used\n",
    "    try:\n",
    "        tf.config.set_visible_devices(gpus[gpu_num], 'GPU')\n",
    "        print('Only GPU number', gpu_num, 'used.')\n",
    "        tf.config.experimental.set_memory_growth(gpus[gpu_num], True)\n",
    "    except RuntimeError as e:\n",
    "        print(e)"
   ]
  },
  {
   "cell_type": "code",
   "execution_count": 2,
   "id": "9d3ff139",
   "metadata": {},
   "outputs": [],
   "source": [
    "%matplotlib inline\n",
    "import matplotlib.pyplot as plt\n",
    "import numpy as np\n",
    "import time\n",
    "\n",
    "import sionna\n",
    "from sionna.mimo import StreamManagement\n",
    "from tensorflow.keras import Model\n",
    "\n",
    "from sionna.ofdm import ResourceGrid, ResourceGridMapper, LSChannelEstimator, LMMSEEqualizer\n",
    "from sionna.ofdm import OFDMModulator, OFDMDemodulator, ZFPrecoder, RemoveNulledSubcarriers\n",
    "\n",
    "from sionna.channel.tr38901 import AntennaArray, CDL, Antenna\n",
    "from sionna.channel import subcarrier_frequencies, cir_to_ofdm_channel, cir_to_time_channel, time_lag_discrete_time_channel\n",
    "from sionna.channel import ApplyOFDMChannel, ApplyTimeChannel, OFDMChannel, TimeChannel\n",
    "\n",
    "from sionna.fec.ldpc.encoding import LDPC5GEncoder\n",
    "from sionna.fec.ldpc.decoding import LDPC5GDecoder\n",
    "from sionna.mapping import Mapper, Demapper\n",
    "from sionna.utils import BinarySource, ebnodb2no, sim_ber, PlotBER\n",
    "from sionna.utils.metrics import compute_ber\n"
   ]
  },
  {
   "cell_type": "markdown",
   "id": "85fbf4f9-4576-4ea0-b11b-3107bba0ef54",
   "metadata": {},
   "source": [
    "### Stream Management <a class=\"anchor\" id=\"Stream-Management\"></a>"
   ]
  },
  {
   "cell_type": "code",
   "execution_count": 3,
   "id": "c8f1a11c-443c-4fc5-af27-9854e42ee578",
   "metadata": {},
   "outputs": [],
   "source": [
    "# Define the number of UT and BS antennas for SISO 1T1R\n",
    "num_ut = 1\n",
    "num_bs = 1\n",
    "num_ut_ant = 1\n",
    "num_bs_ant = 1\n",
    "\n",
    "# The number of transmitted streams is equal to the number of UT antennas\n",
    "num_streams_per_tx = num_ut_ant\n",
    "\n",
    "# Create an RX-TX association matrix\n",
    "rx_tx_association = np.array([[1]])\n",
    "\n",
    "# Instantiate a StreamManagement object\n",
    "sm = StreamManagement(rx_tx_association, num_streams_per_tx)"
   ]
  },
  {
   "cell_type": "markdown",
   "id": "6e5910cc-eb73-45f3-8c56-f580e01566cc",
   "metadata": {},
   "source": [
    "### OFDM Resource Grid & Pilot Pattern <a class=\"anchor\" id=\"OFDM-Resource-Grid-&-Pilot-Pattern\"></a>"
   ]
  },
  {
   "cell_type": "code",
   "execution_count": 4,
   "id": "d1ac9e8c-708f-446c-b041-2713dd3a20a5",
   "metadata": {},
   "outputs": [
    {
     "name": "stderr",
     "output_type": "stream",
     "text": [
      "2023-12-06 12:24:54.107148: I tensorflow/compiler/xla/stream_executor/cuda/cuda_gpu_executor.cc:995] successful NUMA node read from SysFS had negative value (-1), but there must be at least one NUMA node, so returning NUMA node zero. See more at https://github.com/torvalds/linux/blob/v6.0/Documentation/ABI/testing/sysfs-bus-pci#L344-L355\n",
      "2023-12-06 12:24:54.107379: I tensorflow/compiler/xla/stream_executor/cuda/cuda_gpu_executor.cc:995] successful NUMA node read from SysFS had negative value (-1), but there must be at least one NUMA node, so returning NUMA node zero. See more at https://github.com/torvalds/linux/blob/v6.0/Documentation/ABI/testing/sysfs-bus-pci#L344-L355\n",
      "2023-12-06 12:24:54.107511: I tensorflow/compiler/xla/stream_executor/cuda/cuda_gpu_executor.cc:995] successful NUMA node read from SysFS had negative value (-1), but there must be at least one NUMA node, so returning NUMA node zero. See more at https://github.com/torvalds/linux/blob/v6.0/Documentation/ABI/testing/sysfs-bus-pci#L344-L355\n",
      "2023-12-06 12:24:54.541613: I tensorflow/compiler/xla/stream_executor/cuda/cuda_gpu_executor.cc:995] successful NUMA node read from SysFS had negative value (-1), but there must be at least one NUMA node, so returning NUMA node zero. See more at https://github.com/torvalds/linux/blob/v6.0/Documentation/ABI/testing/sysfs-bus-pci#L344-L355\n",
      "2023-12-06 12:24:54.541752: I tensorflow/compiler/xla/stream_executor/cuda/cuda_gpu_executor.cc:995] successful NUMA node read from SysFS had negative value (-1), but there must be at least one NUMA node, so returning NUMA node zero. See more at https://github.com/torvalds/linux/blob/v6.0/Documentation/ABI/testing/sysfs-bus-pci#L344-L355\n",
      "2023-12-06 12:24:54.541854: I tensorflow/compiler/xla/stream_executor/cuda/cuda_gpu_executor.cc:995] successful NUMA node read from SysFS had negative value (-1), but there must be at least one NUMA node, so returning NUMA node zero. See more at https://github.com/torvalds/linux/blob/v6.0/Documentation/ABI/testing/sysfs-bus-pci#L344-L355\n",
      "2023-12-06 12:24:54.541937: I tensorflow/core/common_runtime/gpu/gpu_device.cc:1639] Created device /job:localhost/replica:0/task:0/device:GPU:0 with 5894 MB memory:  -> device: 0, name: NVIDIA GeForce RTX 2060 SUPER, pci bus id: 0000:01:00.0, compute capability: 7.5\n"
     ]
    }
   ],
   "source": [
    "rg = ResourceGrid(num_ofdm_symbols=14,\n",
    "                  fft_size=128,\n",
    "                  subcarrier_spacing=15e3,\n",
    "                  num_tx=1,\n",
    "                  num_streams_per_tx=1,\n",
    "                  cyclic_prefix_length=6,\n",
    "                  num_guard_carriers=[15,16],\n",
    "                  dc_null=True,\n",
    "                  pilot_pattern=\"kronecker\",\n",
    "                  pilot_ofdm_symbol_indices=[2])"
   ]
  },
  {
   "cell_type": "code",
   "execution_count": 5,
   "id": "e77893d1-80d6-4926-bead-b1a72401b59a",
   "metadata": {},
   "outputs": [],
   "source": [
    "num_bits_per_symbol = 6 # QPSK modulation\n",
    "coderate = 0.5 # Code rate\n",
    "n = int(rg.num_data_symbols*num_bits_per_symbol) # Number of coded bits\n",
    "k = int(n*coderate) # Number of information bits\n",
    "\n",
    "# The binary source will create batches of information bits\n",
    "binary_source = BinarySource()\n",
    "\n",
    "# The encoder maps information bits to coded bits\n",
    "encoder = LDPC5GEncoder(k, n)\n",
    "\n",
    "# The mapper maps blocks of information bits to constellation symbols\n",
    "mapper = Mapper(\"qam\", num_bits_per_symbol)\n",
    "\n",
    "# The resource grid mapper maps symbols onto an OFDM resource grid\n",
    "rg_mapper = ResourceGridMapper(rg)\n",
    "\n",
    "# The zero forcing precoder precodes the transmit stream towards the intended antennas\n",
    "zf_precoder = ZFPrecoder(rg, sm, return_effective_channel=True)\n",
    "\n",
    "# OFDM modulator and demodulator\n",
    "modulator = OFDMModulator(rg.cyclic_prefix_length)\n",
    "demodulator = OFDMDemodulator(rg.fft_size, 0, rg.cyclic_prefix_length)\n",
    "\n",
    "# This function removes nulled subcarriers from any tensor having the shape of a resource grid\n",
    "remove_nulled_scs = RemoveNulledSubcarriers(rg)\n",
    "\n",
    "# The LS channel estimator will provide channel estimates and error variances\n",
    "ls_est = LSChannelEstimator(rg, interpolation_type=\"nn\")\n",
    "\n",
    "# The LMMSE equalizer will provide soft symbols together with noise variance estimates\n",
    "lmmse_equ = LMMSEEqualizer(rg, sm)\n",
    "\n",
    "# The demapper produces LLR for all coded bits\n",
    "demapper = Demapper(\"app\", \"qam\", num_bits_per_symbol)\n",
    "\n",
    "# The decoder provides hard-decisions on the information bits\n",
    "decoder = LDPC5GDecoder(encoder, hard_out=True)"
   ]
  },
  {
   "cell_type": "markdown",
   "id": "bb616356",
   "metadata": {},
   "source": [
    "### import PlutoSDR library for Sionna use\n",
    "\n",
    "PlutoSDR parameters:\n",
    "- SDR_TX_IP: IP address of the PlutoSDR\n",
    "- SDR_TX_FREQ: Transmit frequency in Hz\n",
    "- SDR_TX_BANDWIDTH: Transmit bandwidth in Hz\n",
    "- SampleRate: Sample rate in Hz"
   ]
  },
  {
   "cell_type": "code",
   "execution_count": 6,
   "id": "abce09ea",
   "metadata": {},
   "outputs": [],
   "source": [
    "import SDR_Sionna_1T1R as sdr\n",
    "\n",
    "SampleRate = rg.fft_size*rg.subcarrier_spacing # sample rate\n",
    "\n",
    "# Start the radio. Note, radio transmissions are only allowed with appropriate licenses!!!\n",
    "SDR1 = sdr.SDR(SDR_TX_IP=\"ip:192.168.1.10\", SDR_TX_FREQ=921.1e6, SDR_TX_BANDWIDTH=SampleRate*1.1, SampleRate = SampleRate)\n"
   ]
  },
  {
   "cell_type": "markdown",
   "id": "d52062b3",
   "metadata": {},
   "source": [
    "# Eager mode example with SDR "
   ]
  },
  {
   "cell_type": "markdown",
   "id": "f8b07203",
   "metadata": {},
   "source": [
    "### Single run in debug mode for SDR debug graphs\n",
    "\n",
    "sdr.SDR input parameters:\n",
    "- SAMPLES: symbols output from sionna modulator\n",
    "- SDR_TX_GAIN: transmitter gain. 0dB is maximum\n",
    "- add_td_samples: number of additional symbols to cater fordelay spread\n",
    "- debug: True for pretty(-ish) graphs\n",
    "\n",
    "sdr.SDR output parameters x_xdr (see below):\n",
    "- x_sdr[0] : samples\n",
    "- x_sdr[1] : SINR estimate\n",
    "- x_sdr[2] : actual TX_Gain setting in SDR\n",
    "- x_sdr[3] : actual RX_Gain setting in SDR\n",
    "- x_sdr[4] : Attempts - the algorithm tries to send again with increased power if correlation is not found\n",
    "- x_sdr[5] : Pearson R - the correlation between transmitted and received signals\n",
    "- x_sdr[6] : SDR time - how long it took to input the samples, transmit, receive, and output the samples. Typically ~23ms in my test set up, around 1sec if debug=True and graphs are created."
   ]
  },
  {
   "cell_type": "code",
   "execution_count": 7,
   "id": "319775ef",
   "metadata": {},
   "outputs": [
    {
     "name": "stderr",
     "output_type": "stream",
     "text": [
      "2023-12-06 12:24:56.978988: I tensorflow/core/util/cuda_solvers.cc:179] Creating GpuSolver handles for stream 0x8da7de0\n"
     ]
    },
    {
     "name": "stdout",
     "output_type": "stream",
     "text": [
      "BER: 0.196, TX_Gain: -10dB, RX_Gain: 10dB, Attempts: 1, Pearson R: 0.89, SINR 12.0dB, SDR time: 37ms\n"
     ]
    }
   ],
   "source": [
    "batch_size = 1 # We pick a small batch_size as executing this code in Eager mode could consume a lot of memory\n",
    "b = binary_source([batch_size, 1, rg.num_streams_per_tx, encoder.k])\n",
    "c = encoder(b)\n",
    "x = mapper(c)\n",
    "x_rg = rg_mapper(x)\n",
    "\n",
    "# OFDM modulation with cyclic prefix insertion\n",
    "x_time = modulator(x_rg)\n",
    "# outputs: received symbols in tf Sionna compatible format, \n",
    "# SINR, SDR_TX_GAIN, SDR_RX_GAIN, Attempts, Pearson R\n",
    "x_sdr = SDR1(SAMPLES = x_time, SDR_TX_GAIN=-10, SDR_RX_GAIN = 10, add_td_samples = 16, debug=False) # transmit\n",
    "########################################################################################################################################################\n",
    "y = demodulator(x_sdr[0]) # received samples in tf Sionna compatible format\n",
    "\n",
    "no = ebnodb2no((x_sdr[1]), num_bits_per_symbol, coderate, rg) # SINR estimate\n",
    "h_hat, err_var = ls_est ([y, no]) \n",
    "\n",
    "x_hat, no_eff = lmmse_equ([y, h_hat, err_var, no])\n",
    "llr = demapper([x_hat, no_eff])\n",
    "b_hat = decoder(llr)\n",
    "ber = compute_ber(b, b_hat)\n",
    "\n",
    "print(f\"BER: {ber:1.3f}, TX_Gain: {x_sdr[2]}dB, RX_Gain: {x_sdr[3]}dB, Attempts: {x_sdr[4]}, Pearson R: {x_sdr[5]:1.2f}, SINR {x_sdr[1]:1.1f}dB, SDR time: {x_sdr[6]*1000:1.0f}ms\")"
   ]
  },
  {
   "cell_type": "markdown",
   "id": "3888bd5b",
   "metadata": {},
   "source": [
    "### Multiple runs with various TX power setting"
   ]
  },
  {
   "cell_type": "code",
   "execution_count": 8,
   "id": "49308c95",
   "metadata": {},
   "outputs": [
    {
     "name": "stdout",
     "output_type": "stream",
     "text": [
      "BER: 0.0%, TX_Gain: -10dB, RX_Gain: 20dB, Attempts: 1, Pearson R: 0.95, SINR 17.3dB, SDR time: 25ms\n",
      "BER: 0.0%, TX_Gain: -12dB, RX_Gain: 20dB, Attempts: 1, Pearson R: 0.95, SINR 16.3dB, SDR time: 42ms\n",
      "BER: 0.3%, TX_Gain: -14dB, RX_Gain: 20dB, Attempts: 1, Pearson R: 0.92, SINR 13.0dB, SDR time: 26ms\n",
      "BER: 14.6%, TX_Gain: -16dB, RX_Gain: 20dB, Attempts: 1, Pearson R: 0.91, SINR 11.7dB, SDR time: 28ms\n",
      "BER: 24.2%, TX_Gain: -18dB, RX_Gain: 20dB, Attempts: 1, Pearson R: 0.85, SINR 9.7dB, SDR time: 25ms\n",
      "BER: 26.3%, TX_Gain: -20dB, RX_Gain: 20dB, Attempts: 1, Pearson R: 0.84, SINR 9.3dB, SDR time: 25ms\n",
      "BER: 30.6%, TX_Gain: -22dB, RX_Gain: 20dB, Attempts: 1, Pearson R: 0.76, SINR 7.7dB, SDR time: 25ms\n",
      "BER: 35.1%, TX_Gain: -24dB, RX_Gain: 20dB, Attempts: 1, Pearson R: 0.65, SINR 4.9dB, SDR time: 25ms\n",
      "BER: 36.9%, TX_Gain: -26dB, RX_Gain: 20dB, Attempts: 1, Pearson R: 0.60, SINR 4.9dB, SDR time: 25ms\n",
      "BER: 41.2%, TX_Gain: -28dB, RX_Gain: 20dB, Attempts: 1, Pearson R: 0.49, SINR 3.4dB, SDR time: 25ms\n",
      "BER: 43.5%, TX_Gain: -30dB, RX_Gain: 20dB, Attempts: 1, Pearson R: 0.32, SINR 1.8dB, SDR time: 24ms\n",
      "BER: 41.6%, TX_Gain: -27dB, RX_Gain: 20dB, Attempts: 2, Pearson R: 0.48, SINR 3.2dB, SDR time: 43ms\n",
      "BER: 40.5%, TX_Gain: -29dB, RX_Gain: 20dB, Attempts: 2, Pearson R: 0.44, SINR 3.3dB, SDR time: 43ms\n"
     ]
    }
   ],
   "source": [
    "for SDR_TX_GAIN in range(-10,-35,-2):\n",
    "    \n",
    "    batch_size = 1 # We pick a small batch_size as executing this code in Eager mode could consume a lot of memory\n",
    "    b = binary_source([batch_size, 1, rg.num_streams_per_tx, encoder.k])\n",
    "    c = encoder(b)\n",
    "    x = mapper(c)\n",
    "    x_rg = rg_mapper(x)\n",
    "\n",
    "    # OFDM modulation with cyclic prefix insertion\n",
    "    x_time = modulator(x_rg)\n",
    "    \n",
    "    ########################################################################################################################################################\n",
    "    x_sdr = SDR1(SAMPLES = x_time, SDR_TX_GAIN=SDR_TX_GAIN, SDR_RX_GAIN = 20, add_td_samples = 16, debug=False)\n",
    "    ########################################################################################################################################################\n",
    "\n",
    "    # OFDM demodulation and cyclic prefix removal\n",
    "    y = demodulator(x_sdr[0])\n",
    "\n",
    "    no = ebnodb2no((x_sdr[1]), num_bits_per_symbol, coderate, rg)\n",
    "    h_hat, err_var = ls_est ([y, no])\n",
    "\n",
    "    x_hat, no_eff = lmmse_equ([y, h_hat, err_var, no])\n",
    "    llr = demapper([x_hat, no_eff])\n",
    "    b_hat = decoder(llr)\n",
    "    ber = compute_ber(b, b_hat)\n",
    "    \n",
    "    print(f\"TX_Gain: {x_sdr[2]}dB, BER: {ber*100:1.1f}%, RX_Gain: {x_sdr[3]}dB, Attempts: {x_sdr[4]}, Pearson R: {x_sdr[5]:1.2f}, SINR {x_sdr[1]:1.1f}dB, SDR time: {x_sdr[6]*1000:1.0f}ms\")"
   ]
  },
  {
   "cell_type": "code",
   "execution_count": 9,
   "id": "45e8ff1c",
   "metadata": {},
   "outputs": [
    {
     "name": "stdout",
     "output_type": "stream",
     "text": [
      "(1, 1, 1, 14, 128)\n"
     ]
    }
   ],
   "source": [
    "# y is the received symbols ready to be digested by the Sionna demodulator\n",
    "print(y.shape)\n"
   ]
  },
  {
   "cell_type": "markdown",
   "id": "43765ec4",
   "metadata": {},
   "source": [
    "## Keras model example"
   ]
  },
  {
   "cell_type": "code",
   "execution_count": 10,
   "id": "68a60366",
   "metadata": {},
   "outputs": [],
   "source": [
    "# SDR works also with Keras models, however, graph execution does not!\n",
    "\n",
    "class OFDMSystem(Model): # Inherits from Keras Model\n",
    "\n",
    "    def __init__(self):\n",
    "        super().__init__() # Must call the Keras model initializer\n",
    "        \n",
    "        self.SampleRate = rg.fft_size*rg.subcarrier_spacing # sample rate\n",
    "        # The binary source will create batches of information bits\n",
    "        self.binary_source = BinarySource()\n",
    "\n",
    "        # The encoder maps information bits to coded bits\n",
    "        self.encoder = LDPC5GEncoder(k, n)\n",
    "\n",
    "        # The mapper maps blocks of information bits to constellation symbols\n",
    "        self.mapper = Mapper(\"qam\", num_bits_per_symbol)\n",
    "\n",
    "        # The resource grid mapper maps symbols onto an OFDM resource grid\n",
    "        self.rg_mapper = ResourceGridMapper(rg)\n",
    "\n",
    "        # The zero forcing precoder precodes the transmit stream towards the intended antennas\n",
    "        self.zf_precoder = ZFPrecoder(rg, sm, return_effective_channel=True)\n",
    "\n",
    "        # OFDM modulator and demodulator\n",
    "        self.modulator = OFDMModulator(rg.cyclic_prefix_length)\n",
    "        self.SDR1 = sdr.SDR(SDR_TX_IP=\"ip:192.168.1.10\",SDR_TX_FREQ=921.1e6, SDR_TX_BANDWIDTH=self.SampleRate*1.1, SampleRate = self.SampleRate)\n",
    "        self.demodulator = OFDMDemodulator(rg.fft_size, 0, rg.cyclic_prefix_length)\n",
    "\n",
    "        # This function removes nulled subcarriers from any tensor having the shape of a resource grid\n",
    "        self.remove_nulled_scs = RemoveNulledSubcarriers(rg)\n",
    "\n",
    "        # The LS channel estimator will provide channel estimates and error variances\n",
    "        self.ls_est = LSChannelEstimator(rg, interpolation_type=\"nn\")\n",
    "\n",
    "        # The LMMSE equalizer will provide soft symbols together with noise variance estimates\n",
    "        self.lmmse_equ = LMMSEEqualizer(rg, sm)\n",
    "\n",
    "        # The demapper produces LLR for all coded bits\n",
    "        self.demapper = Demapper(\"app\", \"qam\", num_bits_per_symbol)\n",
    "\n",
    "        # The decoder provides hard-decisions on the information bits\n",
    "        self.decoder = LDPC5GDecoder(encoder, hard_out=True)\n",
    "\n",
    "    #@tf.function # Graph execution to speed things up, this how ever will not work\n",
    "    def __call__(self, batch_size, SDR_TX_GAIN):\n",
    "\n",
    "        b = self.binary_source([batch_size, 1, rg.num_streams_per_tx, encoder.k])\n",
    "        c = self.encoder(b)\n",
    "        x = self.mapper(c)\n",
    "        x_rg = self.rg_mapper(x)\n",
    "\n",
    "        # OFDM modulation with cyclic prefix insertion\n",
    "        x_time = self.modulator(x_rg)\n",
    "\n",
    "        # Pluto_SDR TX & RX instead of channel simulation\n",
    "        x_sdr = self.SDR1(SAMPLES = x_time, SDR_TX_GAIN=SDR_TX_GAIN, SDR_RX_GAIN = 30, debug=False)\n",
    "\n",
    "        # OFDM demodulation and cyclic prefix removal\n",
    "        y = self.demodulator(x_sdr[0])\n",
    "        SINR_dB = x_sdr[1]\n",
    "        no = ebnodb2no((SINR_dB), num_bits_per_symbol, coderate, rg)\n",
    "        h_hat, err_var = self.ls_est ([y, no])\n",
    "\n",
    "        x_hat, no_eff = self.lmmse_equ([y, h_hat, err_var, no])\n",
    "        llr = self.demapper([x_hat, no_eff])\n",
    "        \n",
    "        c_hat = tf.cast(tf.less(0.0, llr), tf.float32) # hard-decided bits before dec.\n",
    "        ber_uncoded = sionna.utils.metrics.compute_ber(tf.reshape(c, [-1]), tf.reshape(c_hat, [-1]))\n",
    "\n",
    "        b_hat = self.decoder(llr)\n",
    "        ber_coded = sionna.utils.metrics.compute_ber(b, b_hat)\n",
    "\n",
    "        return b, b_hat, x_sdr[1], ber_uncoded.numpy(), ber_coded.numpy()\n"
   ]
  },
  {
   "cell_type": "markdown",
   "id": "925e4c03",
   "metadata": {},
   "source": [
    "## Run the OFDM system with SDR radio interface \n",
    "\n",
    "n times, while TX power setting is adjusted down from 0dB to -35dB in 2dB steps. Max power is achieved with 0dB setting and is approximately 10dBm in PlutoSDR."
   ]
  },
  {
   "cell_type": "code",
   "execution_count": 11,
   "id": "088c6d58",
   "metadata": {},
   "outputs": [
    {
     "name": "stdout",
     "output_type": "stream",
     "text": [
      "SINR=34.72267532348633, uncoded BER=0.0, coded BER=0.0\n",
      "SINR=32.8316535949707, uncoded BER=0.0, coded BER=0.0\n",
      "SINR=31.4301700592041, uncoded BER=0.0, coded BER=0.0\n",
      "SINR=29.860748291015625, uncoded BER=0.0, coded BER=0.0\n",
      "SINR=28.357059478759766, uncoded BER=0.0, coded BER=0.0\n",
      "SINR=25.5681209564209, uncoded BER=0.0002670940170940171, coded BER=0.0\n",
      "SINR=23.592803955078125, uncoded BER=0.004540598290598291, coded BER=0.0\n",
      "SINR=21.34017562866211, uncoded BER=0.009081196581196582, coded BER=0.0\n",
      "SINR=19.055320739746094, uncoded BER=0.018563034188034188, coded BER=0.0\n",
      "SINR=18.344013214111328, uncoded BER=0.03766025641025641, coded BER=0.0\n",
      "SINR=17.170412063598633, uncoded BER=0.07051282051282051, coded BER=0.0\n",
      "SINR=14.527655601501465, uncoded BER=0.12593482905982906, coded BER=0.0\n",
      "SINR=12.945405006408691, uncoded BER=0.15117521367521367, coded BER=0.2048611111111111\n",
      "SINR=11.053877830505371, uncoded BER=0.17267628205128205, coded BER=0.20379273504273504\n",
      "SINR=8.926119804382324, uncoded BER=0.26469017094017094, coded BER=0.27537393162393164\n"
     ]
    }
   ],
   "source": [
    "model_ls = OFDMSystem()\n",
    "\n",
    "for SDR_TX_GAIN in range(-0,-35,-2):\n",
    "    print(f'SINR={model_ls(1,SDR_TX_GAIN)[2]}, uncoded BER={model_ls(1,SDR_TX_GAIN)[3]}, coded BER={model_ls(1,SDR_TX_GAIN)[4]}')\n"
   ]
  }
 ],
 "metadata": {
  "kernelspec": {
   "display_name": "Python 3.9.7 ('sionna')",
   "language": "python",
   "name": "python3"
  },
  "language_info": {
   "codemirror_mode": {
    "name": "ipython",
    "version": 3
   },
   "file_extension": ".py",
   "mimetype": "text/x-python",
   "name": "python",
   "nbconvert_exporter": "python",
   "pygments_lexer": "ipython3",
   "version": "3.11.5"
  },
  "vscode": {
   "interpreter": {
    "hash": "1a5d3fbc8aacd7a44f460f43e620abe2d49a49ea7f1cb112b2c0a39dbfcdb008"
   }
  },
  "widgets": {
   "application/vnd.jupyter.widget-state+json": {
    "state": {},
    "version_major": 2,
    "version_minor": 0
   }
  }
 },
 "nbformat": 4,
 "nbformat_minor": 5
}
